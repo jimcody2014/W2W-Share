{
 "cells": [
  {
   "cell_type": "markdown",
   "id": "fc820f58",
   "metadata": {
    "toc": true
   },
   "source": [
    "<h1>Table of Contents<span class=\"tocSkip\"></span></h1>\n",
    "<div class=\"toc\"><ul class=\"toc-item\"><li><span><a href=\"#Ingest\" data-toc-modified-id=\"Ingest-1\">Ingest</a></span></li><li><span><a href=\"#Inspect-and-Clean\" data-toc-modified-id=\"Inspect-and-Clean-2\">Inspect and Clean</a></span><ul class=\"toc-item\"><li><ul class=\"toc-item\"><li><span><a href=\"#Looking-for-duplicates\" data-toc-modified-id=\"Looking-for-duplicates-2.0.1\">Looking for duplicates</a></span></li><li><span><a href=\"#Change-datatypes\" data-toc-modified-id=\"Change-datatypes-2.0.2\">Change datatypes</a></span></li><li><span><a href=\"#Change-column-names\" data-toc-modified-id=\"Change-column-names-2.0.3\">Change column names</a></span></li><li><span><a href=\"#Manage-missing-data\" data-toc-modified-id=\"Manage-missing-data-2.0.4\">Manage missing data</a></span></li><li><span><a href=\"#Imputing-missing-values\" data-toc-modified-id=\"Imputing-missing-values-2.0.5\">Imputing missing values</a></span></li></ul></li><li><span><a href=\"#Check-categorical-data\" data-toc-modified-id=\"Check-categorical-data-2.1\">Check categorical data</a></span><ul class=\"toc-item\"><li><span><a href=\"#Using-visuals-to-get-a-sense-of-the-data\" data-toc-modified-id=\"Using-visuals-to-get-a-sense-of-the-data-2.1.1\">Using visuals to get a sense of the data</a></span><ul class=\"toc-item\"><li><span><a href=\"#Categorical-data\" data-toc-modified-id=\"Categorical-data-2.1.1.1\">Categorical data</a></span></li></ul></li><li><span><a href=\"#Examine-categorical-data-a-little-more-closely\" data-toc-modified-id=\"Examine-categorical-data-a-little-more-closely-2.1.2\">Examine categorical data a little more closely</a></span></li><li><span><a href=\"#Dropping-columns-and-rows\" data-toc-modified-id=\"Dropping-columns-and-rows-2.1.3\">Dropping columns and rows</a></span><ul class=\"toc-item\"><li><span><a href=\"#Quantitative-data\" data-toc-modified-id=\"Quantitative-data-2.1.3.1\">Quantitative data</a></span></li></ul></li><li><span><a href=\"#Removing-outliers\" data-toc-modified-id=\"Removing-outliers-2.1.4\">Removing outliers</a></span></li></ul></li></ul></li><li><span><a href=\"#Exercise---30-minutes\" data-toc-modified-id=\"Exercise---30-minutes-3\">Exercise - 30 minutes</a></span><ul class=\"toc-item\"><li><ul class=\"toc-item\"><li><span><a href=\"#See-Beer-Notebook---Part-1\" data-toc-modified-id=\"See-Beer-Notebook---Part-1-3.0.1\">See Beer Notebook - Part 1</a></span></li></ul></li></ul></li></ul></div>"
   ]
  },
  {
   "cell_type": "markdown",
   "id": "eea06d49",
   "metadata": {},
   "source": [
    "# Ingest"
   ]
  },
  {
   "cell_type": "code",
   "execution_count": null,
   "id": "76d23ffc",
   "metadata": {},
   "outputs": [],
   "source": [
    "import numpy as np\n",
    "import pandas as pd\n",
    "import matplotlib.pyplot as plt\n",
    "import matplotlib as mpl\n",
    "import seaborn as sns\n",
    "from numpy.random import randn"
   ]
  },
  {
   "cell_type": "code",
   "execution_count": null,
   "id": "75735811",
   "metadata": {},
   "outputs": [],
   "source": [
    "df = pd.read_csv('https://raw.githubusercontent.com/jimcody2014/W2W-Share/refs/heads/main/W2Wexport.csv')\n",
    "df.head()"
   ]
  },
  {
   "cell_type": "code",
   "execution_count": null,
   "id": "fe658248",
   "metadata": {},
   "outputs": [],
   "source": [
    "# A cursory look at the data\n",
    "df.shape"
   ]
  },
  {
   "cell_type": "markdown",
   "id": "22f37a6e",
   "metadata": {},
   "source": [
    " "
   ]
  },
  {
   "cell_type": "markdown",
   "id": "58202dd4",
   "metadata": {},
   "source": [
    "# Inspect and Clean"
   ]
  },
  {
   "cell_type": "markdown",
   "id": "641b7bb4",
   "metadata": {},
   "source": [
    "### Looking for duplicates"
   ]
  },
  {
   "cell_type": "code",
   "execution_count": null,
   "id": "1d5c185d",
   "metadata": {},
   "outputs": [],
   "source": [
    "# checking for duplicates\n",
    "df.loc[df.duplicated()]# This will drop all duplicate rows"
   ]
  },
  {
   "cell_type": "code",
   "execution_count": null,
   "id": "aa672d25",
   "metadata": {},
   "outputs": [],
   "source": [
    "df.drop_duplicates(keep = 'first', inplace = True) \n",
    "\n",
    "# keep - which duplicate to keep, default is none!\n",
    "\n",
    "df.loc[df.duplicated()]"
   ]
  },
  {
   "cell_type": "markdown",
   "id": "0c54551a",
   "metadata": {},
   "source": [
    "### Change datatypes"
   ]
  },
  {
   "cell_type": "code",
   "execution_count": null,
   "id": "3a6c910c",
   "metadata": {},
   "outputs": [],
   "source": [
    "# Are we ok with the data types?\n",
    "df.info()"
   ]
  },
  {
   "cell_type": "code",
   "execution_count": null,
   "id": "ea23b27c",
   "metadata": {},
   "outputs": [],
   "source": [
    "# Change data type\n",
    "\n",
    "##### This is going to fail !!\n",
    "\n",
    "#df['year'] = df['year'].astype(str) ############## case sensitive\n",
    "#df['xyz'] = df['xyz'].astype(str)\n",
    "df.info()\n",
    "\n",
    "# vaccines['series_complete_pop_pct'] = pd.to_numeric(vaccines['series_complete_pop_pct']).astype(int)\n"
   ]
  },
  {
   "cell_type": "code",
   "execution_count": 7,
   "id": "42dca303-3e74-4880-9447-b919758fc20b",
   "metadata": {},
   "outputs": [],
   "source": [
    "def change_df_column_names(names):\n",
    "    title=[]\n",
    "    for name in names: \n",
    "        title.append(name.lower())\n",
    "    return title"
   ]
  },
  {
   "cell_type": "code",
   "execution_count": 8,
   "id": "40db963e-3df3-4450-820f-ce1b5d09f751",
   "metadata": {},
   "outputs": [
    {
     "data": {
      "text/html": [
       "<div>\n",
       "<style scoped>\n",
       "    .dataframe tbody tr th:only-of-type {\n",
       "        vertical-align: middle;\n",
       "    }\n",
       "\n",
       "    .dataframe tbody tr th {\n",
       "        vertical-align: top;\n",
       "    }\n",
       "\n",
       "    .dataframe thead th {\n",
       "        text-align: right;\n",
       "    }\n",
       "</style>\n",
       "<table border=\"1\" class=\"dataframe\">\n",
       "  <thead>\n",
       "    <tr style=\"text-align: right;\">\n",
       "      <th></th>\n",
       "      <th>year</th>\n",
       "      <th>month</th>\n",
       "      <th>employee_id</th>\n",
       "      <th>customer_id</th>\n",
       "      <th>cust_country</th>\n",
       "      <th>customer_name</th>\n",
       "      <th>product_id</th>\n",
       "      <th>product_name</th>\n",
       "      <th>shipping_company</th>\n",
       "      <th>unit_price</th>\n",
       "      <th>units_in_stock</th>\n",
       "      <th>units_on_order</th>\n",
       "      <th>discount</th>\n",
       "      <th>quantity</th>\n",
       "      <th>line_amount</th>\n",
       "    </tr>\n",
       "  </thead>\n",
       "  <tbody>\n",
       "    <tr>\n",
       "      <th>0</th>\n",
       "      <td>2028</td>\n",
       "      <td>Jul</td>\n",
       "      <td>5</td>\n",
       "      <td>VINET</td>\n",
       "      <td>France</td>\n",
       "      <td>Paul Henriot</td>\n",
       "      <td>11</td>\n",
       "      <td>Queso Cabrales</td>\n",
       "      <td>Grandma Kelly Shipping</td>\n",
       "      <td>14.0</td>\n",
       "      <td>22.0</td>\n",
       "      <td>30</td>\n",
       "      <td>NaN</td>\n",
       "      <td>12</td>\n",
       "      <td>168.0</td>\n",
       "    </tr>\n",
       "    <tr>\n",
       "      <th>1</th>\n",
       "      <td>2028</td>\n",
       "      <td>Jul</td>\n",
       "      <td>5</td>\n",
       "      <td>VINET</td>\n",
       "      <td>France</td>\n",
       "      <td>Paul Henriot</td>\n",
       "      <td>42</td>\n",
       "      <td>Singaporean Hokkien Fried Mee</td>\n",
       "      <td>Grandma Kelly Shipping</td>\n",
       "      <td>9.8</td>\n",
       "      <td>26.0</td>\n",
       "      <td>0</td>\n",
       "      <td>NaN</td>\n",
       "      <td>10</td>\n",
       "      <td>98.0</td>\n",
       "    </tr>\n",
       "    <tr>\n",
       "      <th>2</th>\n",
       "      <td>2028</td>\n",
       "      <td>Jul</td>\n",
       "      <td>5</td>\n",
       "      <td>VINET</td>\n",
       "      <td>France</td>\n",
       "      <td>Paul Henriot</td>\n",
       "      <td>72</td>\n",
       "      <td>Mozzarella di Giovanni</td>\n",
       "      <td>Grandma Kelly Shipping</td>\n",
       "      <td>34.8</td>\n",
       "      <td>14.0</td>\n",
       "      <td>0</td>\n",
       "      <td>NaN</td>\n",
       "      <td>5</td>\n",
       "      <td>174.0</td>\n",
       "    </tr>\n",
       "    <tr>\n",
       "      <th>3</th>\n",
       "      <td>2028</td>\n",
       "      <td>Jul</td>\n",
       "      <td>6</td>\n",
       "      <td>TOMSP</td>\n",
       "      <td>Germany</td>\n",
       "      <td>Karin Josephs</td>\n",
       "      <td>14</td>\n",
       "      <td>Tofu</td>\n",
       "      <td>Best Shipper</td>\n",
       "      <td>18.6</td>\n",
       "      <td>35.0</td>\n",
       "      <td>0</td>\n",
       "      <td>NaN</td>\n",
       "      <td>9</td>\n",
       "      <td>167.4</td>\n",
       "    </tr>\n",
       "    <tr>\n",
       "      <th>4</th>\n",
       "      <td>2028</td>\n",
       "      <td>Jul</td>\n",
       "      <td>6</td>\n",
       "      <td>TOMSP</td>\n",
       "      <td>Germany</td>\n",
       "      <td>Karin Josephs</td>\n",
       "      <td>51</td>\n",
       "      <td>Manjimup Dried Apples</td>\n",
       "      <td>Best Shipper</td>\n",
       "      <td>42.4</td>\n",
       "      <td>20.0</td>\n",
       "      <td>0</td>\n",
       "      <td>NaN</td>\n",
       "      <td>40</td>\n",
       "      <td>1696.0</td>\n",
       "    </tr>\n",
       "  </tbody>\n",
       "</table>\n",
       "</div>"
      ],
      "text/plain": [
       "   year month  employee_id customer_id cust_country  customer_name  \\\n",
       "0  2028   Jul            5       VINET       France   Paul Henriot   \n",
       "1  2028   Jul            5       VINET       France   Paul Henriot   \n",
       "2  2028   Jul            5       VINET       France   Paul Henriot   \n",
       "3  2028   Jul            6       TOMSP      Germany  Karin Josephs   \n",
       "4  2028   Jul            6       TOMSP      Germany  Karin Josephs   \n",
       "\n",
       "   product_id                   product_name        shipping_company  \\\n",
       "0          11                 Queso Cabrales  Grandma Kelly Shipping   \n",
       "1          42  Singaporean Hokkien Fried Mee  Grandma Kelly Shipping   \n",
       "2          72         Mozzarella di Giovanni  Grandma Kelly Shipping   \n",
       "3          14                           Tofu            Best Shipper   \n",
       "4          51          Manjimup Dried Apples            Best Shipper   \n",
       "\n",
       "   unit_price  units_in_stock  units_on_order  discount  quantity  line_amount  \n",
       "0        14.0            22.0              30       NaN        12        168.0  \n",
       "1         9.8            26.0               0       NaN        10         98.0  \n",
       "2        34.8            14.0               0       NaN         5        174.0  \n",
       "3        18.6            35.0               0       NaN         9        167.4  \n",
       "4        42.4            20.0               0       NaN        40       1696.0  "
      ]
     },
     "execution_count": 8,
     "metadata": {},
     "output_type": "execute_result"
    }
   ],
   "source": [
    "df.columns = change_df_column_names(df.columns)\n",
    "df.head()"
   ]
  },
  {
   "cell_type": "code",
   "execution_count": 9,
   "id": "bd375987-7eb2-4441-b1ec-62209e7afb66",
   "metadata": {},
   "outputs": [],
   "source": [
    "def split_columns(data):\n",
    "    numeric_columns = df.select_dtypes(include=[np.number]).columns.tolist()\n",
    "    integer_columns = df.select_dtypes(include=['int']).columns.tolist()\n",
    "    float_columns = df.select_dtypes(include=['float']).columns.tolist()\n",
    "    boolean_columns = df.select_dtypes(include=['bool']).columns.tolist()\n",
    "    object_columns = df.select_dtypes(include=['object']).columns.tolist()\n",
    "    return numeric_columns, integer_columns, float_columns, boolean_columns, object_columns"
   ]
  },
  {
   "cell_type": "code",
   "execution_count": 10,
   "id": "0eadb95c-dd80-42dd-9e34-95da15edaa0e",
   "metadata": {},
   "outputs": [],
   "source": [
    "ncols,icols,fcols,bcols,ocols = split_columns(df)"
   ]
  },
  {
   "cell_type": "code",
   "execution_count": 11,
   "id": "5d1cbab6-803f-4a86-8b9a-7cc4107298fc",
   "metadata": {},
   "outputs": [
    {
     "name": "stdout",
     "output_type": "stream",
     "text": [
      "['year', 'employee_id', 'product_id', 'unit_price', 'units_in_stock', 'units_on_order', 'discount', 'quantity', 'line_amount']\n",
      "['year', 'employee_id', 'product_id', 'units_on_order', 'quantity']\n",
      "['unit_price', 'units_in_stock', 'discount', 'line_amount']\n",
      "[]\n",
      "['month', 'customer_id', 'cust_country', 'customer_name', 'product_name', 'shipping_company']\n"
     ]
    }
   ],
   "source": [
    "print(ncols)\n",
    "print(icols)\n",
    "print(fcols)\n",
    "print(bcols)\n",
    "print(ocols)"
   ]
  },
  {
   "cell_type": "code",
   "execution_count": 12,
   "id": "75b666fe-9565-4838-996b-221eb0f0e1f8",
   "metadata": {},
   "outputs": [
    {
     "name": "stdout",
     "output_type": "stream",
     "text": [
      "<class 'pandas.core.frame.DataFrame'>\n",
      "Index: 666 entries, 0 to 665\n",
      "Data columns (total 15 columns):\n",
      " #   Column            Non-Null Count  Dtype  \n",
      "---  ------            --------------  -----  \n",
      " 0   year              666 non-null    object \n",
      " 1   month             666 non-null    object \n",
      " 2   employee_id       666 non-null    int64  \n",
      " 3   customer_id       649 non-null    object \n",
      " 4   cust_country      649 non-null    object \n",
      " 5   customer_name     649 non-null    object \n",
      " 6   product_id        666 non-null    int64  \n",
      " 7   product_name      666 non-null    object \n",
      " 8   shipping_company  666 non-null    object \n",
      " 9   unit_price        666 non-null    float64\n",
      " 10  units_in_stock    664 non-null    float64\n",
      " 11  units_on_order    666 non-null    int64  \n",
      " 12  discount          598 non-null    float64\n",
      " 13  quantity          666 non-null    int64  \n",
      " 14  line_amount       666 non-null    float64\n",
      "dtypes: float64(4), int64(4), object(7)\n",
      "memory usage: 83.2+ KB\n"
     ]
    }
   ],
   "source": [
    "# Change data type of 2 more columns\n",
    "\n",
    "\n",
    "\n",
    "df['year'] = df['year'].astype(str)\n",
    "#df['xyz'] = df['xyz'].astype(str)\n",
    "#df['xyz'] = df['xyz'].astype(str)\n",
    "df.info()\n",
    "\n",
    "# vaccines['series_complete_pop_pct'] = pd.to_numeric(vaccines['series_complete_pop_pct']).astype(int)"
   ]
  },
  {
   "cell_type": "markdown",
   "id": "f7761d8c",
   "metadata": {},
   "source": [
    "### Change column names"
   ]
  },
  {
   "cell_type": "code",
   "execution_count": 13,
   "id": "abdbe8e6",
   "metadata": {},
   "outputs": [
    {
     "name": "stdout",
     "output_type": "stream",
     "text": [
      "<class 'pandas.core.frame.DataFrame'>\n",
      "Index: 666 entries, 0 to 665\n",
      "Data columns (total 15 columns):\n",
      " #   Column          Non-Null Count  Dtype  \n",
      "---  ------          --------------  -----  \n",
      " 0   year            666 non-null    object \n",
      " 1   month           666 non-null    object \n",
      " 2   employee_id     666 non-null    int64  \n",
      " 3   customer_id     649 non-null    object \n",
      " 4   cust_country    649 non-null    object \n",
      " 5   customer_name   649 non-null    object \n",
      " 6   product_id      666 non-null    int64  \n",
      " 7   product_name    666 non-null    object \n",
      " 8   s_company       666 non-null    object \n",
      " 9   unit_price      666 non-null    float64\n",
      " 10  units_in_stock  664 non-null    float64\n",
      " 11  units_on_order  666 non-null    int64  \n",
      " 12  discount        598 non-null    float64\n",
      " 13  quantity        666 non-null    int64  \n",
      " 14  line_amount     666 non-null    float64\n",
      "dtypes: float64(4), int64(4), object(7)\n",
      "memory usage: 83.2+ KB\n"
     ]
    }
   ],
   "source": [
    "# Rename a few columns\n",
    "\n",
    "short_names = {'shipping_company':'s_company'\n",
    "               #, # creating a dict of the names to be changed\n",
    "               #'xyz':'xyz',\n",
    "               #'xyz':'xyz'\n",
    "              }\n",
    "\n",
    "df.rename(columns=short_names, inplace=True) # passing the dict to the rename method\n",
    "                                             # inplace=True\n",
    "df.info()\n",
    "\n",
    "######## Appendix A has an explanation of 'inplace'"
   ]
  },
  {
   "cell_type": "markdown",
   "id": "892de505",
   "metadata": {},
   "source": [
    "### Manage missing data"
   ]
  },
  {
   "cell_type": "code",
   "execution_count": 14,
   "id": "192f9bd5",
   "metadata": {},
   "outputs": [
    {
     "data": {
      "text/plain": [
       "year               0\n",
       "month              0\n",
       "employee_id        0\n",
       "customer_id       17\n",
       "cust_country      17\n",
       "customer_name     17\n",
       "product_id         0\n",
       "product_name       0\n",
       "s_company          0\n",
       "unit_price         0\n",
       "units_in_stock     2\n",
       "units_on_order     0\n",
       "discount          68\n",
       "quantity           0\n",
       "line_amount        0\n",
       "dtype: int64"
      ]
     },
     "execution_count": 14,
     "metadata": {},
     "output_type": "execute_result"
    }
   ],
   "source": [
    "# Just listing the columns and how many rows \n",
    "# for each have a missing value.\n",
    "\n",
    "df.isnull().sum()"
   ]
  },
  {
   "cell_type": "code",
   "execution_count": 15,
   "id": "573fe9e3",
   "metadata": {},
   "outputs": [
    {
     "data": {
      "text/plain": [
       "discount          10.21\n",
       "customer_id        2.55\n",
       "cust_country       2.55\n",
       "customer_name      2.55\n",
       "units_in_stock     0.30\n",
       "dtype: float64"
      ]
     },
     "execution_count": 15,
     "metadata": {},
     "output_type": "execute_result"
    }
   ],
   "source": [
    "df_null = df.isna().mean().round(4) * 100\n",
    "\n",
    "df_null.sort_values(ascending=False).head()"
   ]
  },
  {
   "cell_type": "code",
   "execution_count": null,
   "id": "6fdcb895",
   "metadata": {},
   "outputs": [],
   "source": [
    "# Plotting missing values\n",
    "\n",
    "sns.heatmap(df.isnull(), cbar=False)"
   ]
  },
  {
   "cell_type": "markdown",
   "id": "46de8b04",
   "metadata": {},
   "source": [
    "### Imputing missing values"
   ]
  },
  {
   "cell_type": "markdown",
   "id": "9a57ff9e-64e9-47c8-ad89-573d413ccdeb",
   "metadata": {},
   "source": [
    "### Talk about customer_id.\n",
    "- do we want to impute a missing value?  Does that make sense?\n",
    "- If not, do we need to get rid of the column?\n",
    "- How important is it to our analysis?\n",
    "### Let's put customer_id aside for a minute.  Focus on measures that can be imputed."
   ]
  },
  {
   "cell_type": "code",
   "execution_count": null,
   "id": "69a63e43",
   "metadata": {},
   "outputs": [],
   "source": [
    "#a = df['customer_id'].describe()\n",
    "#b = df['customer_id'].median()\n",
    "#c = df['customer_id'].mode()\n"
   ]
  },
  {
   "cell_type": "code",
   "execution_count": null,
   "id": "26718c61-16c2-4f42-8f2b-7ababd651575",
   "metadata": {},
   "outputs": [],
   "source": [
    "a = df['unit_price'].describe()\n",
    "b = df['unit_price'].median()\n",
    "c = df['unit_price'].mode()\n",
    "print(a)\n",
    "print()\n",
    "print(b)\n",
    "print()\n",
    "print(c)"
   ]
  },
  {
   "cell_type": "code",
   "execution_count": null,
   "id": "c6232411",
   "metadata": {},
   "outputs": [],
   "source": [
    "# Fill missing values of unit_price with the average of unit_price (mean)\n",
    "#df.units_in_stock.fillna( df.units_in_stock.mean() )\n",
    "df.unit_price.fillna( df.unit_price.mean())\n",
    "\n",
    "df_null = df.isna().mean().round(4) * 100\n",
    "df_null.sort_values(ascending=False).head()\n",
    "\n",
    "# Can be filled with an arbitrary number\n",
    "# df.unit_price.fillna( 101 )\n"
   ]
  },
  {
   "cell_type": "markdown",
   "id": "c831b26d",
   "metadata": {},
   "source": [
    "## Check categorical data - Let's talk about that customer_id"
   ]
  },
  {
   "cell_type": "code",
   "execution_count": null,
   "id": "a5d89673",
   "metadata": {},
   "outputs": [],
   "source": [
    "sns.countplot(x='customer_id', data=df)"
   ]
  },
  {
   "cell_type": "code",
   "execution_count": null,
   "id": "925dbbac",
   "metadata": {},
   "outputs": [],
   "source": [
    "df['customer_id'].nunique()"
   ]
  },
  {
   "cell_type": "markdown",
   "id": "19618413-3081-4364-b636-6fd9a3da6cfd",
   "metadata": {},
   "source": [
    "### What should we fix in customer_id?"
   ]
  },
  {
   "cell_type": "code",
   "execution_count": null,
   "id": "d70e283b",
   "metadata": {},
   "outputs": [],
   "source": [
    "df['customer_id'].unique()"
   ]
  },
  {
   "cell_type": "code",
   "execution_count": null,
   "id": "58a2280c",
   "metadata": {},
   "outputs": [],
   "source": [
    "df['customer_id'].value_counts()"
   ]
  },
  {
   "cell_type": "code",
   "execution_count": null,
   "id": "fe009990",
   "metadata": {},
   "outputs": [],
   "source": [
    "\n",
    "df['customer_id'] = df['customer_id'].replace('?', pd.NA)\n",
    "df.isnull().sum()\n",
    "\n",
    "# Customer_id had 15 null values before this."
   ]
  },
  {
   "cell_type": "code",
   "execution_count": null,
   "id": "6ba4641a-1cd6-434e-99a5-4b91ab3d6887",
   "metadata": {},
   "outputs": [],
   "source": [
    "df['customer_id'] = df['customer_id'].fillna('unknown')\n",
    "df.isnull().sum()\n"
   ]
  },
  {
   "cell_type": "code",
   "execution_count": null,
   "id": "ba4a1e34",
   "metadata": {},
   "outputs": [],
   "source": [
    "# Example\n",
    "# df.loc[df.gender == 'M','gender']='Male'\n",
    "# df.head()"
   ]
  },
  {
   "cell_type": "code",
   "execution_count": null,
   "id": "91cd4374",
   "metadata": {},
   "outputs": [],
   "source": [
    "# Change/Fix some of the data values\n",
    "# Example\n",
    "# df['gender'] = df['gender'].replace({'M':'Male', 'Mle':'Male', 'F':'Female'})\n",
    "# df.head()"
   ]
  },
  {
   "cell_type": "code",
   "execution_count": null,
   "id": "c5f57135",
   "metadata": {},
   "outputs": [],
   "source": [
    "# Inconsistent capitalization\n",
    "# Apply a function along an axis of the DataFrame.\n",
    "\n",
    "# Example\n",
    "# df['gender'] = df['gender'].apply(lambda x:x.lower())\n",
    "# df.head()"
   ]
  },
  {
   "cell_type": "code",
   "execution_count": null,
   "id": "fbaeb0a9",
   "metadata": {},
   "outputs": [],
   "source": [
    "#sns.countplot(x='gender', data=df)"
   ]
  },
  {
   "cell_type": "code",
   "execution_count": null,
   "id": "338c5cc2",
   "metadata": {},
   "outputs": [],
   "source": [
    "# x = df.loc[df.gender == 'unknown/invalid','gender']\n",
    "# y = df.loc[df.gender == '?','gender']\n",
    "# print(x)\n",
    "# print(y)"
   ]
  },
  {
   "cell_type": "code",
   "execution_count": null,
   "id": "1cba6e69",
   "metadata": {},
   "outputs": [],
   "source": [
    "# df.iloc[11]"
   ]
  },
  {
   "cell_type": "code",
   "execution_count": null,
   "id": "cf1de9a3",
   "metadata": {},
   "outputs": [],
   "source": [
    "# df['gender'] = df['gender'].replace({'?':'NaN', 'unknown/invalid':'male'})\n",
    "# df.head()"
   ]
  },
  {
   "cell_type": "code",
   "execution_count": null,
   "id": "466129ee",
   "metadata": {},
   "outputs": [],
   "source": [
    "# Change a value for an entire column\n",
    "#df.loc[:,'discharge_dispo'] = 99   \n",
    "#df.loc[64410] = 99   # Change a value for an entire row\n",
    "#df.head()\n"
   ]
  },
  {
   "cell_type": "markdown",
   "id": "674e5fe8",
   "metadata": {},
   "source": [
    "### Using visuals to get a sense of the data"
   ]
  },
  {
   "cell_type": "code",
   "execution_count": null,
   "id": "6673423d",
   "metadata": {},
   "outputs": [],
   "source": [
    "df.info()"
   ]
  },
  {
   "cell_type": "markdown",
   "id": "47d8efb7",
   "metadata": {},
   "source": [
    "#### Categorical data"
   ]
  },
  {
   "cell_type": "code",
   "execution_count": null,
   "id": "5b4c6fb2-f08f-45d8-befb-a27aab5a547a",
   "metadata": {},
   "outputs": [],
   "source": [
    "# Create a bar chart for each categorical variables to see the distribution of the data\n",
    "plt.figure(figsize = (20,20))\n",
    "plt.subplot(3,3,1)\n",
    "sns.countplot(x=\"year\", data=df)\n",
    "plt.subplot(3,3,2)\n",
    "sns.countplot(x=\"month\", data=df)\n",
    "plt.subplot(3,3,3)\n",
    "sns.countplot(x=\"s_company\", data=df)\n",
    "plt.subplot(3,3,4)\n",
    "sns.countplot(x=\"product_name\", data=df)\n",
    "plt.xticks(rotation=45)\n",
    "plt.subplot(3,3,5)\n",
    "sns.countplot(x=\"cust_country\", data=df)\n",
    "plt.xticks(rotation=45)\n",
    "plt.subplot(3,3,6)\n",
    "#sns.countplot(x=\"xyz\", data=df)\n",
    "#plt.subplot(3,3,7)\n",
    "#sns.countplot(x=\"xyz\", data=df)\n",
    "#plt.subplot(3,3,8)\n",
    "#sns.countplot(x=\"xyz\", data=df)\n",
    "#plt.subplot(3,3,9)\n",
    "#sns.countplot(x=\"xyz\", data=df)\n",
    "plt.tight_layout()  # Optional, to avoid overlap\n",
    "plt.show()\n",
    "\n",
    "\n",
    "plt.suptitle('Categorical Plotting')\n",
    "plt.show()"
   ]
  },
  {
   "cell_type": "markdown",
   "id": "71e98912",
   "metadata": {},
   "source": [
    "### Examine categorical data a little more closely"
   ]
  },
  {
   "cell_type": "code",
   "execution_count": null,
   "id": "72db2dfa",
   "metadata": {},
   "outputs": [],
   "source": [
    "for column in df.columns:         # df.columns is a data frame attribute\n",
    "    print(f\"{column}: Number of unique values {df[column].nunique()}\")\n",
    "    print(\"==========================================================\")\n",
    "    \n",
    "    \n",
    "# f means Formatted string literals "
   ]
  },
  {
   "cell_type": "code",
   "execution_count": null,
   "id": "3d6be235",
   "metadata": {},
   "outputs": [],
   "source": [
    "object_col = []\n",
    "for column in df.columns:\n",
    "    if df[column].dtype == object and len(df[column].unique()) <= 30:\n",
    "        object_col.append(column)\n",
    "        print(f\"{column} : {df[column].unique()}\")\n",
    "        print(df[column].value_counts())\n",
    "        print(\"====================================\")"
   ]
  },
  {
   "cell_type": "code",
   "execution_count": null,
   "id": "3a12706c",
   "metadata": {},
   "outputs": [],
   "source": [
    "df['cust_country'].nunique()"
   ]
  },
  {
   "cell_type": "code",
   "execution_count": null,
   "id": "51c72eed",
   "metadata": {},
   "outputs": [],
   "source": [
    "df['cust_country'].value_counts()"
   ]
  },
  {
   "cell_type": "code",
   "execution_count": null,
   "id": "96794622",
   "metadata": {},
   "outputs": [],
   "source": [
    "df.loc[df['cust_country']!= 'Norway']"
   ]
  },
  {
   "cell_type": "markdown",
   "id": "862d8126",
   "metadata": {},
   "source": [
    "### Dropping columns and rows"
   ]
  },
  {
   "cell_type": "code",
   "execution_count": null,
   "id": "6b6f2229",
   "metadata": {},
   "outputs": [],
   "source": [
    "df.shape"
   ]
  },
  {
   "cell_type": "code",
   "execution_count": null,
   "id": "7b0e0eba",
   "metadata": {},
   "outputs": [],
   "source": [
    "# Remove a single column\n",
    "#df = df.drop('xyz',axis=1)  # Axis=1 means drop the column\n",
    "#df = df.drop('xyz',axis=1)  \n",
    "\n"
   ]
  },
  {
   "cell_type": "code",
   "execution_count": null,
   "id": "b6020c93",
   "metadata": {},
   "outputs": [],
   "source": [
    "# Remove multiple columns\n",
    "\n",
    "# glyburide-metformin       \n",
    "# glipizide-metformin       \n",
    "# glimepiride-pioglitazone\n",
    "\n",
    "# drop_columns = {'xyz','xyz'}\n",
    "# df = df.drop(columns = drop_columns) # inplace=True not used so columns still exist. \n",
    "                                     # Just not in this instance.\n",
    "#df.head()"
   ]
  },
  {
   "cell_type": "code",
   "execution_count": null,
   "id": "8724ad1d",
   "metadata": {},
   "outputs": [],
   "source": [
    "# Delete by selecting rows not equal to the condition\n",
    "df = df.loc[df['cust_country']!= 'Norway']\n",
    "#df = df.loc[df.gender != '?']\n",
    "#df = df.loc[df['gender']!='?']\n",
    "df.shape"
   ]
  },
  {
   "cell_type": "code",
   "execution_count": null,
   "id": "880b618c",
   "metadata": {},
   "outputs": [],
   "source": [
    "     \n",
    "              "
   ]
  },
  {
   "cell_type": "markdown",
   "id": "b23095a1",
   "metadata": {},
   "source": [
    "#### Quantitative data"
   ]
  },
  {
   "cell_type": "code",
   "execution_count": null,
   "id": "d3f5cd2c",
   "metadata": {},
   "outputs": [],
   "source": [
    "# Histograms\n",
    "\n",
    "plt.figure(figsize = (20,20))\n",
    "plt.subplot(521)\n",
    "sns.histplot(data=df, x='unit_price', binwidth = 1)\n",
    "plt.subplot(522)\n",
    "sns.histplot(data=df, x='units_in_stock', bins=25)\n",
    "plt.subplot(523)\n",
    "\n",
    "\n",
    "plt.suptitle('Histograms')\n",
    "plt.show()"
   ]
  },
  {
   "cell_type": "code",
   "execution_count": null,
   "id": "ef7ca099",
   "metadata": {},
   "outputs": [],
   "source": [
    "# Pairplot to see the big picture\n",
    "sns.pairplot(df)"
   ]
  },
  {
   "cell_type": "code",
   "execution_count": null,
   "id": "bc08cab5",
   "metadata": {},
   "outputs": [],
   "source": [
    "sns.pairplot(df, hue = 'year', corner = True)"
   ]
  },
  {
   "cell_type": "code",
   "execution_count": null,
   "id": "c0aba23e-7ed7-46df-8254-9bcc704d649a",
   "metadata": {},
   "outputs": [],
   "source": [
    "df['year'].value_counts()"
   ]
  },
  {
   "cell_type": "code",
   "execution_count": null,
   "id": "fc5bd5a5-fefc-4f44-994c-1e9c200c8c99",
   "metadata": {},
   "outputs": [],
   "source": [
    "year_to_plot = '2029'\n",
    "df_filtered = df[df['year'] == year_to_plot]\n",
    "sns.pairplot(df_filtered, corner = True)"
   ]
  },
  {
   "cell_type": "code",
   "execution_count": null,
   "id": "d7398298-e782-4dca-8813-4e0fc66ae76a",
   "metadata": {},
   "outputs": [],
   "source": [
    "# Create a copy of the DataFrame to preserve the original\n",
    "df_jittered = df.copy()\n",
    "\n",
    "# Add jitter to numeric columns\n",
    "for col in df_jittered.select_dtypes(include=[np.number]).columns:\n",
    "    df_jittered[col] += np.random.normal(0, 0.1, size=df_jittered.shape[0])  # Adjust 0.1 as needed\n",
    "\n",
    "# Plot the pairplot with jittered data\n",
    "sns.pairplot(df_jittered, hue='year', corner=True,markers=['s', 'D'])"
   ]
  },
  {
   "cell_type": "code",
   "execution_count": null,
   "id": "988c4648",
   "metadata": {},
   "outputs": [],
   "source": [
    "#sns.pairplot(df,\n",
    "#             x_vars=['xyz', 'xyz', 'xyz'],\n",
    "#             y_vars=['xyz','xyz','xyz','xyz' ])\n"
   ]
  },
  {
   "cell_type": "code",
   "execution_count": null,
   "id": "456b257b",
   "metadata": {},
   "outputs": [],
   "source": [
    "# Correlations\n",
    "\n",
    "df_numeric = df.select_dtypes(include=[float, int])\n",
    "\n",
    "# Calculate the correlation matrix\n",
    "df2 = df_numeric.corr()\n",
    "\n",
    "print(df2)\n",
    "\n"
   ]
  },
  {
   "cell_type": "code",
   "execution_count": null,
   "id": "699f49eb",
   "metadata": {},
   "outputs": [],
   "source": [
    "plt.figure(figsize=(10,10))\n",
    "corr = df2.corr()\n",
    "ax = sns.heatmap(\n",
    "    df2,\n",
    "    vmin=-1, vmax=1, center=0,\n",
    "    cmap=sns.diverging_palette(20, 220, n=200),\n",
    "    square=True,\n",
    "    annot=True, annot_kws={\"size\":10}\n",
    ")\n",
    "ax.set_xticklabels(\n",
    "    ax.get_xticklabels(),\n",
    "    rotation=45,\n",
    "    horizontalalignment='right')\n",
    "plt.show()"
   ]
  },
  {
   "cell_type": "code",
   "execution_count": null,
   "id": "2bfe810a",
   "metadata": {},
   "outputs": [],
   "source": [
    "# Focusing on a few variables\n",
    "\n",
    "plt.figure(figsize = (20,20))\n",
    "plt.subplot(221)\n",
    "sns.boxplot(data=df, y=\"unit_price\")\n",
    "plt.subplot(222)\n",
    "#sns.boxplot(data=df, y=\"xyz\")\n",
    "plt.subplot(223)\n",
    "#sns.boxplot(data=df, y=\"xyz\")\n",
    "plt.subplot(224)\n",
    "#sns.boxplot(data=df, y=\"xyz\")"
   ]
  },
  {
   "cell_type": "code",
   "execution_count": null,
   "id": "69f7056f-f7bf-4f5f-8e42-7fe61b2f01d8",
   "metadata": {},
   "outputs": [],
   "source": [
    "df.info()"
   ]
  },
  {
   "cell_type": "code",
   "execution_count": null,
   "id": "bc877d0a",
   "metadata": {},
   "outputs": [],
   "source": [
    "# Focusing on a few variables\n",
    "\n",
    "plt.figure(figsize = (20,20))\n",
    "plt.subplot(221)\n",
    "sns.boxplot(data=df, x='year', y=\"unit_price\")\n",
    "plt.subplot(222)\n",
    "sns.boxplot(data=df, x='month', y=\"unit_price\")\n",
    "plt.subplot(223)\n",
    "sns.boxplot(data=df, x='cust_country', y=\"unit_price\")\n",
    "plt.xticks(rotation=45)\n",
    "plt.subplot(224)\n",
    "sns.boxplot(data=df, x='s_company', y=\"unit_price\")\n",
    "plt.xticks(rotation=45)\n",
    "plt.tight_layout()  # Optional, to avoid overlap\n",
    "plt.show()"
   ]
  },
  {
   "cell_type": "code",
   "execution_count": null,
   "id": "aa9a4199-5bc8-4e5f-9c27-59fc87d4129b",
   "metadata": {},
   "outputs": [],
   "source": [
    "sns.histplot(data=df, x='unit_price', hue='year', multiple = 'stack', bins = 20)\n",
    "plt.show()"
   ]
  },
  {
   "cell_type": "code",
   "execution_count": null,
   "id": "7b0b3adf-6bc7-4fb1-8591-6d468ba4c6b0",
   "metadata": {
    "scrolled": true
   },
   "outputs": [],
   "source": [
    "# From Seaborn docuentation\n",
    "ax = sns.boxplot(x=\"s_company\", y=\"unit_price\", data=df)\n",
    "ax = sns.swarmplot(x=\"s_company\", y=\"unit_price\", data=df, color=\".25\")\n",
    "plt.show()"
   ]
  },
  {
   "cell_type": "code",
   "execution_count": null,
   "id": "ed9b939c-081e-4f1a-9522-c2da17b16a01",
   "metadata": {},
   "outputs": [],
   "source": []
  },
  {
   "cell_type": "code",
   "execution_count": null,
   "id": "d11e7c6e-d998-47dc-ba38-7f8713f559b4",
   "metadata": {},
   "outputs": [],
   "source": []
  },
  {
   "cell_type": "code",
   "execution_count": null,
   "id": "f5e5dfe1-8b80-4482-b11a-7542becbd16f",
   "metadata": {},
   "outputs": [],
   "source": []
  },
  {
   "cell_type": "code",
   "execution_count": null,
   "id": "a21ae33d-0676-4907-b59b-a5165e7f8299",
   "metadata": {},
   "outputs": [],
   "source": []
  },
  {
   "cell_type": "markdown",
   "id": "ead6e8d6",
   "metadata": {},
   "source": [
    " "
   ]
  }
 ],
 "metadata": {
  "kernelspec": {
   "display_name": "Python 3 (ipykernel)",
   "language": "python",
   "name": "python3"
  },
  "language_info": {
   "codemirror_mode": {
    "name": "ipython",
    "version": 3
   },
   "file_extension": ".py",
   "mimetype": "text/x-python",
   "name": "python",
   "nbconvert_exporter": "python",
   "pygments_lexer": "ipython3",
   "version": "3.12.9"
  },
  "toc": {
   "base_numbering": 1,
   "nav_menu": {},
   "number_sections": false,
   "sideBar": false,
   "skip_h1_title": false,
   "title_cell": "Table of Contents",
   "title_sidebar": "Contents",
   "toc_cell": true,
   "toc_position": {
    "height": "47.6875px",
    "left": "1163.64px",
    "top": "111.125px",
    "width": "159.359px"
   },
   "toc_section_display": false,
   "toc_window_display": true
  },
  "varInspector": {
   "cols": {
    "lenName": 16,
    "lenType": 16,
    "lenVar": 40
   },
   "kernels_config": {
    "python": {
     "delete_cmd_postfix": "",
     "delete_cmd_prefix": "del ",
     "library": "var_list.py",
     "varRefreshCmd": "print(var_dic_list())"
    },
    "r": {
     "delete_cmd_postfix": ") ",
     "delete_cmd_prefix": "rm(",
     "library": "var_list.r",
     "varRefreshCmd": "cat(var_dic_list()) "
    }
   },
   "types_to_exclude": [
    "module",
    "function",
    "builtin_function_or_method",
    "instance",
    "_Feature"
   ],
   "window_display": false
  }
 },
 "nbformat": 4,
 "nbformat_minor": 5
}
